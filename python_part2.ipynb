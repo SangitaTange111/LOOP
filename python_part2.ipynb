{
 "cells": [
  {
   "cell_type": "code",
   "execution_count": 13,
   "id": "4b5767a7-4dc5-45f9-8683-37b96d2d7719",
   "metadata": {},
   "outputs": [
    {
     "name": "stdout",
     "output_type": "stream",
     "text": [
      "Negative\n"
     ]
    }
   ],
   "source": [
    "num=9\n",
    "if num>0:\n",
    "    print(\"Postive\")\n",
    "elif num==0:\n",
    "    print(\"Zero\")\n",
    "else:\n",
    "    print(\"Negative\")\n",
    "    "
   ]
  },
  {
   "cell_type": "code",
   "execution_count": 23,
   "id": "0e5fd62d-8c4d-4f9c-972f-4f66876e75e3",
   "metadata": {},
   "outputs": [
    {
     "name": "stdout",
     "output_type": "stream",
     "text": [
      "Adult\n"
     ]
    }
   ],
   "source": [
    "age=100\n",
    "if age>18:\n",
    "    print(\"Young\")\n",
    "elif age>18:\n",
    "    print(\"Adult\")\n",
    "elif age>60:\n",
    "    print(\"Adult\")\n",
    "\n",
    "else:\n",
    "    print(\"Senior Setizen\")"
   ]
  },
  {
   "cell_type": "code",
   "execution_count": 39,
   "id": "eba4d134-7f17-44d7-9709-ce5fcf12ee64",
   "metadata": {},
   "outputs": [
    {
     "name": "stdout",
     "output_type": "stream",
     "text": [
      "Entry fee is 25\n"
     ]
    }
   ],
   "source": [
    "age=55\n",
    "if age<5:\n",
    "    print(\"Not Entry Fee\")\n",
    "elif age>60:\n",
    "    print(\"Not Entry Fee\")\n",
    "elif age>25:\n",
    "    print(\"Entry fee is 25\")\n",
    "else:\n",
    "    print(\"Entry fee is 20\")\n",
    "    "
   ]
  },
  {
   "cell_type": "code",
   "execution_count": null,
   "id": "fafe8e11-f546-4322-b4b5-c32469866c71",
   "metadata": {},
   "outputs": [],
   "source": [
    "i=1\n",
    "while i<=5:\n",
    "    print(i)\n",
    "    i+=1   \n",
    "   "
   ]
  },
  {
   "cell_type": "code",
   "execution_count": null,
   "id": "e43ce12b-9c4d-4e31-9aa7-cb2b96e40d7a",
   "metadata": {},
   "outputs": [],
   "source": [
    "i=1\n",
    "while i<=5:\n",
    "    print(i)\n",
    "    i=i+1"
   ]
  },
  {
   "cell_type": "code",
   "execution_count": null,
   "id": "2396c8bd-69b8-457d-b388-6505b5cc4489",
   "metadata": {},
   "outputs": [],
   "source": [
    " print(i)"
   ]
  },
  {
   "cell_type": "code",
   "execution_count": null,
   "id": "da1ef037-96be-45e0-8a0d-fdb1bb74065c",
   "metadata": {},
   "outputs": [],
   "source": []
  }
 ],
 "metadata": {
  "kernelspec": {
   "display_name": "Python 3 (ipykernel)",
   "language": "python",
   "name": "python3"
  },
  "language_info": {
   "codemirror_mode": {
    "name": "ipython",
    "version": 3
   },
   "file_extension": ".py",
   "mimetype": "text/x-python",
   "name": "python",
   "nbconvert_exporter": "python",
   "pygments_lexer": "ipython3",
   "version": "3.12.4"
  }
 },
 "nbformat": 4,
 "nbformat_minor": 5
}
